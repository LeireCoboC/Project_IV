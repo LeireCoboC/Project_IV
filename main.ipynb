{
 "cells": [
  {
   "cell_type": "code",
   "execution_count": 2,
   "metadata": {},
   "outputs": [],
   "source": [
    "import functions as f\n",
    "import gradio as gr"
   ]
  },
  {
   "cell_type": "code",
   "execution_count": 3,
   "metadata": {},
   "outputs": [],
   "source": [
    "# Warning control\n",
    "import warnings\n",
    "warnings.filterwarnings('ignore')"
   ]
  },
  {
   "cell_type": "markdown",
   "metadata": {},
   "source": [
    "### Extracting text"
   ]
  },
  {
   "cell_type": "markdown",
   "metadata": {},
   "source": [
    "We first read the text from a pdf file."
   ]
  },
  {
   "cell_type": "code",
   "execution_count": 2,
   "metadata": {},
   "outputs": [
    {
     "name": "stdout",
     "output_type": "stream",
     "text": [
      "**LAST WILL AND TESTAMENT**  \n",
      " \n",
      "I, Edward Miller, residing at 789 Pioneer Parkway, Springfield, State of Oregon, United \n",
      "States, being of sound mind and memory, do hereby declare this to be my Last Will and \n",
      "Testament, hereby revoking all prior wills and codicils made by me.  \n",
      " \n",
      "ARTICLE I: IDENTIFICATION OF FAMILY  \n",
      "I declare that I am married to Laura Miller and have two children, namely: Daniel Miller and \n",
      "Olivia Miller.  \n",
      " \n",
      "ARTICLE II: PAYMENT OF DEBTS AND EXPENSES  \n",
      "I direct that my just debts, funeral expenses, and expenses of last illness be paid from my \n",
      "estate as soon after my death as practicable.  \n",
      " \n",
      "ARTICLE III: DISPOSITION OF PROPERTY  \n",
      "I give, devise, and bequeath all of my property, both real and personal, of whatever kind and \n",
      "wherever situated, as follows:  \n",
      "a. To my beloved spouse, Laura Miller, I bequeath the entirety of my estate.  \n",
      "b. Should my spouse predecease me, I bequeath my estate to my children, Daniel Miller \n",
      "and Olivia Miller, to be divided equally between them.  \n",
      " \n",
      "ARTICLE IV: NOMINATION OF EXECUTOR  \n",
      "I nominate and appoint my spouse, Laura Miller, as Executor of this will. Should my spouse \n",
      "be unable or unwilling to serve, I nominate and appoint my friend, Thomas Clark, as \n",
      "alternate Executor.  \n",
      " \n",
      "ARTICLE V: NOMINATION OF GUARDIAN  In the event that my spouse predeceases me and my children are under the age of eighteen \n",
      "years at the time of my death, I nominate and appoint my sister, Emily Johnson, as \n",
      "Guardian of the person and estate of such minor children.  \n",
      " \n",
      "IN WITNESS WHEREOF, I have hereunto set my hand and seal this 22nd day of July, 2024.  \n",
      " \n",
      "[Signature]  \n",
      " \n",
      "Edward Miller  \n",
      " \n",
      "We, the undersigned, certify that the foregoing instrument, which consists of [number] \n",
      "pages, was signed in our presence by Edward Miller, the Testator, and at the Testator's \n",
      "request and in the Testator's presence and in the presence of each other, have he reunto \n",
      "subscribed our names as witnesses this 22nd day of July, 2024.  \n",
      " \n",
      "Witness #1 [Signature]  \n",
      "Name: John Doe  \n",
      "Address: 1010 Maple Street, Springfield, Oregon  \n",
      " \n",
      "Witness #2 [Signature]  \n",
      "Name: Jane Roe  \n",
      "Address: 2020 Oak Avenue, Springfield, Oregon  \n"
     ]
    }
   ],
   "source": [
    "print(f.read_pdf(\"pdfs/LAST WILL AND TESTAMENT_ENGLISH_PDF.pdf\"))"
   ]
  },
  {
   "cell_type": "markdown",
   "metadata": {},
   "source": [
    "And now we repeat the procedure but with an image, using OCR."
   ]
  },
  {
   "cell_type": "code",
   "execution_count": 5,
   "metadata": {},
   "outputs": [
    {
     "name": "stderr",
     "output_type": "stream",
     "text": [
      "Neither CUDA nor MPS are available - defaulting to CPU. Note: This module is much faster with a GPU.\n"
     ]
    },
    {
     "name": "stdout",
     "output_type": "stream",
     "text": [
      "Notaría 2357 Testamento volumen sexagÉsimno noveno cl inatrumento notarial 896 cuarenla Cinco ochocienlos gven scig declarando siguiente: En México Distrito Federal, siendo docf horas veintiscis mninulos del vierneg agoslo de 2017, anle mí GILBERTO GONZALES GARZA, nolario público número 2357 , cuiiiuafece Sra. LAURA CECILIA MONTIEL RAMIREZ quien maniliesta intención de olorgir: TESTAMENTO PÚBICO ABIERTO Encontrándose  presenles uxilares Sfnotfs Roberto Marlinez Tornas aura Gutiérrez  Miguel   quienes lungirín CuIIO teetigos deepués de asentar respeclivas identilicaciones, NofILT del presenle CUfIu) lestigus En mi presencia Laura Cecilia Montiel Ramnirez declara que originaria de esta ciudad , habicndo nacido de mayo dc 1941, encontrarse viud tcrgs160n2 hijos de notnbres Luis Daniel Fuentes Monticl Julieta Alejandra Fur ambos ILayorEs de Edad. En nor siguiente Macen siguientes: DECLA RACIONES: Llanarae aue: Cecilia Montiel Kaure{ originaria Mexico Fuconrarge pertectamente bien de su9 tacultades [enlale: teufr domici' ) Clle Ilusión Colonia Ángeles demonios deleg : ion Iztapalapa- Declara que no tiene otro Iestamento anlerior presenle nicga rolundamnente cualquicr documenlo aduzcan COIIIL Conlorme expucsto redactan siguicnles: CLAUSULAS Primnera. L Sra. Laaura Cecilia Montic Ramirez declara que au8 pertenencias consistented en tres casas habitcion entregaran Iorra equitativa das hijos   Entregindole la Av. Trabajadores Numnero Col Escucrzo Iztapalpa SL FUENTES MONTIEL para que siga usando  bodega FUfilg laibrica habilacion Wuso s que actualmnente les calá prestando) casa ubicad 1!F agión No 69 Colonia ngeles deiiooiioe delcgaciòn Iztapalapa ccrrg ~ucufura Calle Proletarios 666 de culolua Gubernamnental en esta mistna dernuarcación pasen propiedad de mni hija Julieta Alcjandra Fuentes Monticl primera para ugo PULTG habitación scgunda Ccing producto Fucufntra rcnlada Cufna ocho   dcparlamentos, recibiendo respectivos bencficios Segunda - Fl capital  de mi pensión acumulado en [Il cucnta deseo que pabe en lorma equitativa dos hijos FUfiv londos   que dejó dilunto pugo que iscifnien 36 780 00000 (Ircinu [ullones skifcifnlos ochenti mnil pesos) . Tercera Fn   relación bienes [ufhles ~shblecen COAIi legado para mni hijastro Ramón Rodriguez Herrera, quien actualmnente encuentre 'ivícnrlo Estados Unidos csludia medicina, siendo junto dinero que tengten It 1'25684521425 521456 del Baneo Bankbucno SA de CV que 1scierde lola Don 00 (Dos mnillones quinienlos pesos)  Foja 1Oejemplos.com ejemplo Vemlv accpen Parte (ru QuC bodcg Bodlcg' Inil Qanus?\n"
     ]
    }
   ],
   "source": [
    "print(f.read_Img(\"images/testamento1.jpg\"))"
   ]
  },
  {
   "cell_type": "markdown",
   "metadata": {},
   "source": [
    "### Summarizing"
   ]
  },
  {
   "cell_type": "markdown",
   "metadata": {},
   "source": [
    "In this next step, we want to be able not only to extract the text, but also make a brief summary pointing out the main ideas. In order to do that we use a chatbot, using an API key. We use functions 'summarize_pdf' and 'summarize_Img' to summarize the information coming from either a pdf file or an image."
   ]
  },
  {
   "cell_type": "code",
   "execution_count": 4,
   "metadata": {},
   "outputs": [
    {
     "name": "stdout",
     "output_type": "stream",
     "text": [
      "- Identification of the testator: Edward Miller, date of birth unspecified, nationality unspecified, address: 789 Pioneer Parkway, Springfield, State of Oregon, United States.\n",
      "- Date of execution: 22nd day of July, 2024.\n",
      "- Declaration of capacity: Affirmation that the testator is of sound mind and memory.\n",
      "- Goods: All property, both real and personal, to be distributed.\n",
      "- Debts: Unspecified information.\n",
      "- Beneficiaries: Laura Miller (spouse), Daniel Miller (child), Olivia Miller (child).\n",
      "- Appointment of heirs: Laura Miller (spouse) to inherit entirety of estate; if spouse predeceases, estate to be divided equally between Daniel Miller and Olivia Miller.\n",
      "- Designation of assets: Unspecified information.\n",
      "- Appointment of executor: Laura Miller (spouse) nominated as Executor; Thomas Clark nominated as alternate Executor.\n",
      "- Guardianship and custody of minor children: In case of spouse's predecease and children under 18, Emily Johnson (sister) nominated as Guardian.\n",
      "- Witnesses: John Doe and Jane Roe.\n",
      "- Testator's signature: Edward Miller signed the document.\n"
     ]
    }
   ],
   "source": [
    "print(f.summarize_pdf_eng(\"pdfs/LAST WILL AND TESTAMENT_ENGLISH_PDF.pdf\"))"
   ]
  },
  {
   "cell_type": "code",
   "execution_count": 4,
   "metadata": {},
   "outputs": [
    {
     "name": "stderr",
     "output_type": "stream",
     "text": [
      "Neither CUDA nor MPS are available - defaulting to CPU. Note: This module is much faster with a GPU.\n"
     ]
    },
    {
     "name": "stdout",
     "output_type": "stream",
     "text": [
      "- Identification of the testator: \n",
      "   Full name: Laura Cecilia Montiel Ramirez\n",
      "   Date of birth: May 1941\n",
      "   Nationality: Mexican\n",
      "   Address: Calle Ilusión, Colonia Ángeles, Delegación Iztapalapa, Mexico City\n",
      "\n",
      "- Date of execution: \n",
      "   Day, month, and year: August 26, 2017\n",
      "\n",
      "- Declaration of capacity: \n",
      "   Affirmation of legal age and sound mind: Affirmed by Laura Cecilia Montiel Ramirez\n",
      "\n",
      "- Goods: \n",
      "   List of assets: Three houses to be distributed equitably between her two children, with specific details of each property.\n",
      "\n",
      "- Debts: \n",
      "   Unspecified information\n",
      "\n",
      "- Beneficiaries: \n",
      "   Names and relationships: \n",
      "      - Luis Daniel Fuentes Montiel (son)\n",
      "      - Julieta Alejandra Fuentes Montiel (daughter)\n",
      "\n",
      "- Appointment of heirs: \n",
      "   Unspecified information\n",
      "\n",
      "- Designation of assets: \n",
      "   Specification of assets: \n",
      "      - Distribution of houses among children\n",
      "      - Capital of pension to be divided equally between children\n",
      "\n",
      "- Appointment of executor: \n",
      "   Unspecified information\n",
      "\n",
      "- Guardianship and custody of minor children: \n",
      "   Unspecified information\n",
      "\n",
      "- Witnesses: \n",
      "   Names and signatures: \n",
      "      - Roberto Martinez Torres\n",
      "      - Laura Gutierrez\n",
      "      - Miguel (last name not provided)\n",
      "\n",
      "- Testator's signature: \n",
      "   Confirmed by Laura Cecilia Montiel Ramirez\n"
     ]
    }
   ],
   "source": [
    "print(f.summarize_Img_eng(\"images/testamento1.jpg\"))"
   ]
  },
  {
   "cell_type": "markdown",
   "metadata": {},
   "source": [
    "### Gradio interface"
   ]
  },
  {
   "cell_type": "markdown",
   "metadata": {},
   "source": [
    "In this section, we create an interface with Gradio, to make it easy for the user to upload images or files and get summarizes, without needing to work with the code."
   ]
  },
  {
   "cell_type": "code",
   "execution_count": 4,
   "metadata": {},
   "outputs": [
    {
     "name": "stdout",
     "output_type": "stream",
     "text": [
      "Running on local URL:  http://127.0.0.1:7862\n",
      "\n",
      "Thanks for being a Gradio user! If you have questions or feedback, please join our Discord server and chat with us: https://discord.gg/feTf9x3ZSB\n",
      "Running on public URL: https://83a01b491fcbcfa23d.gradio.live\n",
      "\n",
      "This share link expires in 72 hours. For free permanent hosting and GPU upgrades, run `gradio deploy` from Terminal to deploy to Spaces (https://huggingface.co/spaces)\n"
     ]
    },
    {
     "data": {
      "text/html": [
       "<div><iframe src=\"https://83a01b491fcbcfa23d.gradio.live\" width=\"100%\" height=\"500\" allow=\"autoplay; camera; microphone; clipboard-read; clipboard-write;\" frameborder=\"0\" allowfullscreen></iframe></div>"
      ],
      "text/plain": [
       "<IPython.core.display.HTML object>"
      ]
     },
     "metadata": {},
     "output_type": "display_data"
    },
    {
     "data": {
      "text/plain": []
     },
     "execution_count": 4,
     "metadata": {},
     "output_type": "execute_result"
    }
   ],
   "source": [
    "\n",
    "# interface one: pdf files\n",
    "interface1 = gr.Interface(fn=f.summarize_pdf_eng,\n",
    "                    inputs=[gr.File(label=\"Upload the pdf document\")],\n",
    "                    outputs=[gr.Textbox(label=\"Summary of the document\")],\n",
    "                    title=\"Summarizing legal documents\",\n",
    "                    description=\"Summarize any pdf file.\",\n",
    "                    allow_flagging=\"never\")\n",
    "                    #examples=[\"christmas_dog.jpeg\", \"bird_flight.jpeg\", \"cow.jpeg\"])\n",
    "\n",
    "# interface two: images\n",
    "interface2 = gr.Interface(fn=f.summarize_Img_eng,\n",
    "                    inputs=[gr.Image(label=\"Upload the pdf document\")],\n",
    "                    outputs=[gr.Textbox(label=\"Summary of the document\")],\n",
    "                    title=\"Summarizing legal documents\",\n",
    "                    description=\"Summarize any image using OCR.\",\n",
    "                    allow_flagging=\"never\")\n",
    "                    #examples=[\"christmas_dog.jpeg\", \"bird_flight.jpeg\", \"cow.jpeg\"])\n",
    "gr.close_all()\n",
    "demo = gr.TabbedInterface([interface1, interface2], [\"File\", \"Image\"])\n",
    "\n",
    "# Run the interface\n",
    "demo.launch(share=True)"
   ]
  }
 ],
 "metadata": {
  "language_info": {
   "name": "python"
  }
 },
 "nbformat": 4,
 "nbformat_minor": 2
}
