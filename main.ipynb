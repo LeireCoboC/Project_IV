{
 "cells": [
  {
   "cell_type": "code",
   "execution_count": 1,
   "metadata": {},
   "outputs": [],
   "source": [
    "import functions as f\n",
    "import gradio as gr"
   ]
  },
  {
   "cell_type": "markdown",
   "metadata": {},
   "source": [
    "### Extracting text"
   ]
  },
  {
   "cell_type": "markdown",
   "metadata": {},
   "source": [
    "We first read the text from a pdf file."
   ]
  },
  {
   "cell_type": "code",
   "execution_count": 8,
   "metadata": {},
   "outputs": [
    {
     "name": "stdout",
     "output_type": "stream",
     "text": [
      "Contrato de Arrendamiento  \n",
      "Partes involucradas:  \n",
      "Arrendador : [Nombre completo del arrendador]  Arrendatario : [Nombre completo del \n",
      "arrendatario]  \n",
      "Objeto del contrato:  \n",
      "El arrendador cede al arrendatario el uso y disfrute de la vivienda ubicada en [dirección \n",
      "completa] con las siguientes características:  \n",
      "• [Descripción de la vivienda, incluyendo número de habitaciones, baños, etc.]  \n",
      "Duración del contrato:  \n",
      "El presente contrato tendrá una duración de [número de meses o años] a partir del \n",
      "[fecha de inicio] hasta el [fecha de finalización].  \n",
      "Obligaciones del arrendador:  \n",
      "1. Entregar la vivienda en buen estado de conservación y funcionamiento.  \n",
      "2. Realizar las reparaciones necesarias para mantener la habitabilidad.  \n",
      "3. Facilitar el acceso a la vivienda para inspecciones o reparaciones.  \n",
      "Obligaciones del arrendatario:  \n",
      "1. Pagar la renta mensual de [cantidad] antes del día [fecha de pago].  \n",
      "2. Cuidar y mantener la vivienda en buen estado.  \n",
      "3. No realizar modificaciones sin consentimiento previo del arrendador.  \n",
      "Renta mensual:  \n",
      "La renta mensual acordada es de [cantidad en euros/dólares].  \n",
      "Firma:  \n",
      "Ambas partes firman el presente contrato en [ciudad] el día [fecha de firma].  \n",
      " \n"
     ]
    }
   ],
   "source": [
    "print(f.read_pdf(\"pdfs/Contrato de Arrendamiento.pdf\"))"
   ]
  },
  {
   "cell_type": "markdown",
   "metadata": {},
   "source": [
    "And now we repeat the procedure but with an image, using OCR."
   ]
  },
  {
   "cell_type": "code",
   "execution_count": 9,
   "metadata": {},
   "outputs": [
    {
     "name": "stderr",
     "output_type": "stream",
     "text": [
      "Neither CUDA nor MPS are available - defaulting to CPU. Note: This module is much faster with a GPU.\n"
     ]
    },
    {
     "name": "stdout",
     "output_type": "stream",
     "text": [
      "The towver is 324 Metres (1,063 ft) tall, aDout the Same height 81-storey building, and the tallest structure in Paris Its base i5 square, measuring 125 metres (410 ft) each side During its construction, the Eiffel Towver surpassed the Vashington Monument become the tallest man made structure in the world, title it held for 41 years until the Chrysler Building New York City was finished in 1930 It was the first structure reach height of 380 Metres- Due the addition of broadcasting aerial at the top of the tower in 1957 , it is now taller than the Chrysler Building by 5.2 Metres (17 ft) Excluding transmitters the Eiffel Tower is the secong tallest free 'standing structure France after the Millau Viaduct\n"
     ]
    }
   ],
   "source": [
    "print(f.read_Img(\"images/texto_paris.png\"))"
   ]
  },
  {
   "cell_type": "markdown",
   "metadata": {},
   "source": [
    "### Summarizing"
   ]
  },
  {
   "cell_type": "markdown",
   "metadata": {},
   "source": [
    "In this next step, we want to be able not only to extract the text, but also make a brief summary pointing out the main ideas. In order to do that we use a chatbot, using an API key. We use functions 'summarize_pdf' and 'summarize_Img' to summarize the information coming from either a pdf file or an image."
   ]
  },
  {
   "cell_type": "code",
   "execution_count": 6,
   "metadata": {},
   "outputs": [
    {
     "name": "stdout",
     "output_type": "stream",
     "text": [
      "Resumen:\n",
      "1. Partes involucradas: Arrendador y Arrendatario.\n",
      "2. Objeto del contrato: Uso y disfrute de vivienda ubicada en [dirección completa].\n",
      "3. Duración del contrato: [Número de meses o años] desde [fecha de inicio] hasta [fecha de finalización].\n",
      "4. Obligaciones del arrendador: Entregar la vivienda en buen estado, realizar reparaciones necesarias y facilitar acceso para inspecciones.\n",
      "5. Obligaciones del arrendatario: Pagar renta mensual, cuidar la vivienda y no hacer modificaciones sin consentimiento.\n",
      "6. Renta mensual acordada: [Cantidad en euros/dólares].\n",
      "7. Firma: Contrato firmado por ambas partes en [ciudad] el día [fecha de firma].\n"
     ]
    }
   ],
   "source": [
    "print(f.summarize_pdf_eng(\"pdfs/Contrato de Arrendamiento.pdf\"))"
   ]
  },
  {
   "cell_type": "code",
   "execution_count": 7,
   "metadata": {},
   "outputs": [
    {
     "name": "stderr",
     "output_type": "stream",
     "text": [
      "Neither CUDA nor MPS are available - defaulting to CPU. Note: This module is much faster with a GPU.\n"
     ]
    },
    {
     "name": "stdout",
     "output_type": "stream",
     "text": [
      "Resumen:\n",
      "1. La Torre Eiffel tiene una altura de 324 metros (1,063 pies) y es la estructura más alta de París.\n",
      "2. Durante su construcción, la Torre Eiffel superó al Monumento a Washington como la estructura hecha por el hombre más alta del mundo.\n",
      "3. La Torre Eiffel mantuvo el título de la estructura más alta durante 41 años hasta que se completó el Edificio Chrysler en la Ciudad de Nueva York en 1930.\n",
      "4. Fue la primera estructura en alcanzar una altura de 380 metros debido a la adición de una antena de transmisión en la parte superior en 1957.\n",
      "5. Excluyendo los transmisores, la Torre Eiffel es la segunda estructura independiente más alta de Francia después del Viaducto de Millau.\n"
     ]
    }
   ],
   "source": [
    "print(f.summarize_Img_eng(\"images/texto_paris.png\"))"
   ]
  },
  {
   "cell_type": "markdown",
   "metadata": {},
   "source": [
    "### Gradio interface"
   ]
  },
  {
   "cell_type": "markdown",
   "metadata": {},
   "source": [
    "In this section, we create an interface with Gradio, to make it easy for the user to upload images or files and get summarizes, without needing to work with the code."
   ]
  },
  {
   "cell_type": "code",
   "execution_count": 4,
   "metadata": {},
   "outputs": [
    {
     "name": "stdout",
     "output_type": "stream",
     "text": [
      "Running on local URL:  http://127.0.0.1:7862\n",
      "\n",
      "Thanks for being a Gradio user! If you have questions or feedback, please join our Discord server and chat with us: https://discord.gg/feTf9x3ZSB\n",
      "Running on public URL: https://83a01b491fcbcfa23d.gradio.live\n",
      "\n",
      "This share link expires in 72 hours. For free permanent hosting and GPU upgrades, run `gradio deploy` from Terminal to deploy to Spaces (https://huggingface.co/spaces)\n"
     ]
    },
    {
     "data": {
      "text/html": [
       "<div><iframe src=\"https://83a01b491fcbcfa23d.gradio.live\" width=\"100%\" height=\"500\" allow=\"autoplay; camera; microphone; clipboard-read; clipboard-write;\" frameborder=\"0\" allowfullscreen></iframe></div>"
      ],
      "text/plain": [
       "<IPython.core.display.HTML object>"
      ]
     },
     "metadata": {},
     "output_type": "display_data"
    },
    {
     "data": {
      "text/plain": []
     },
     "execution_count": 4,
     "metadata": {},
     "output_type": "execute_result"
    }
   ],
   "source": [
    "\n",
    "# interface one: pdf files\n",
    "interface1 = gr.Interface(fn=f.summarize_pdf_eng,\n",
    "                    inputs=[gr.File(label=\"Upload the pdf document\")],\n",
    "                    outputs=[gr.Textbox(label=\"Summary of the document\")],\n",
    "                    title=\"Summarizing legal documents\",\n",
    "                    description=\"Summarize any pdf file.\",\n",
    "                    allow_flagging=\"never\")\n",
    "                    #examples=[\"christmas_dog.jpeg\", \"bird_flight.jpeg\", \"cow.jpeg\"])\n",
    "\n",
    "# interface two: images\n",
    "interface2 = gr.Interface(fn=f.summarize_Img_eng,\n",
    "                    inputs=[gr.Image(label=\"Upload the pdf document\")],\n",
    "                    outputs=[gr.Textbox(label=\"Summary of the document\")],\n",
    "                    title=\"Summarizing legal documents\",\n",
    "                    description=\"Summarize any image using OCR.\",\n",
    "                    allow_flagging=\"never\")\n",
    "                    #examples=[\"christmas_dog.jpeg\", \"bird_flight.jpeg\", \"cow.jpeg\"])\n",
    "gr.close_all()\n",
    "demo = gr.TabbedInterface([interface1, interface2], [\"File\", \"Image\"])\n",
    "\n",
    "# Run the interface\n",
    "demo.launch(share=True)"
   ]
  },
  {
   "cell_type": "code",
   "execution_count": 3,
   "metadata": {},
   "outputs": [
    {
     "name": "stdout",
     "output_type": "stream",
     "text": [
      "Resumen:\n",
      "1. Partes involucradas: Arrendador y Arrendatario.\n",
      "2. Objeto del contrato: Uso y disfrute de vivienda ubicada en [dirección completa].\n",
      "3. Duración del contrato: [Número de meses o años] desde [fecha de inicio] hasta [fecha de finalización].\n",
      "4. Obligaciones del arrendador: Entregar la vivienda en buen estado, realizar reparaciones necesarias y facilitar acceso para inspecciones.\n",
      "5. Obligaciones del arrendatario: Pagar renta mensual, cuidar la vivienda y no hacer modificaciones sin consentimiento.\n",
      "6. Renta mensual acordada: [Cantidad en euros/dólares].\n",
      "7. Firma: Contrato firmado por ambas partes en [ciudad] el día [fecha de firma].\n"
     ]
    }
   ],
   "source": [
    "print(summarize(\"/teamspace/studios/this_studio/Project_IV/pdfs/Contrato de Arrendamiento.pdf\"))"
   ]
  }
 ],
 "metadata": {
  "language_info": {
   "name": "python"
  }
 },
 "nbformat": 4,
 "nbformat_minor": 2
}
