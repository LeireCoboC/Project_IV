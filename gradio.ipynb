{
 "cells": [
  {
   "cell_type": "markdown",
   "metadata": {},
   "source": [
    "### Gradio Interface"
   ]
  },
  {
   "cell_type": "markdown",
   "metadata": {},
   "source": [
    "In this section, we create an interface with Gradio, to make it easy for the user to upload images or files and get summarizes, without needing to work with the code."
   ]
  },
  {
   "cell_type": "code",
   "execution_count": 1,
   "metadata": {},
   "outputs": [
    {
     "name": "stdout",
     "output_type": "stream",
     "text": [
      "Running on local URL:  http://127.0.0.1:7860\n",
      "Running on public URL: https://e2ef2107ca0bd8f60b.gradio.live\n",
      "\n",
      "This share link expires in 72 hours. For free permanent hosting and GPU upgrades, run `gradio deploy` from Terminal to deploy to Spaces (https://huggingface.co/spaces)\n"
     ]
    },
    {
     "data": {
      "text/html": [
       "<div><iframe src=\"https://e2ef2107ca0bd8f60b.gradio.live\" width=\"100%\" height=\"500\" allow=\"autoplay; camera; microphone; clipboard-read; clipboard-write;\" frameborder=\"0\" allowfullscreen></iframe></div>"
      ],
      "text/plain": [
       "<IPython.core.display.HTML object>"
      ]
     },
     "metadata": {},
     "output_type": "display_data"
    },
    {
     "data": {
      "text/plain": []
     },
     "execution_count": 1,
     "metadata": {},
     "output_type": "execute_result"
    },
    {
     "name": "stderr",
     "output_type": "stream",
     "text": [
      "Neither CUDA nor MPS are available - defaulting to CPU. Note: This module is much faster with a GPU.\n"
     ]
    }
   ],
   "source": [
    "import functions as f\n",
    "import gradio as gr\n",
    "\n",
    "# interface one: pdf files\n",
    "interface1 = gr.Interface(fn=f.summarize_pdf_eng,\n",
    "                    inputs=[gr.File(label=\"Upload a pdf document\")],\n",
    "                    outputs=[gr.Textbox(label=\"Summary of the document\")],\n",
    "                    title=\"Legal Document Summarizer\",\n",
    "                    description=f\"\"\"Summarizes any testament document. Given a pdf file, \n",
    "                    it extracts essential information related to wills. It provides a \n",
    "                    structured summary that includes details such as the testator’s \n",
    "                    identification, date of execution, capacity declaration, assets, debts, \n",
    "                    beneficiaries, heirs, asset distribution, executor appointment, \n",
    "                    guardianship (if applicable), witness names, and confirmation of the \n",
    "                    testator’s signature. If any information is missing, it will be marked \n",
    "                    as “unspecified.”\"\"\",\n",
    "                    allow_flagging=\"never\",\n",
    "                    examples=[\"pdfs/LAST WILL AND TESTAMENT_ENGLISH_PDF.pdf\"])\n",
    "\n",
    "# interface two: images\n",
    "interface2 = gr.Interface(fn=f.summarize_Img_eng,\n",
    "                    inputs=[gr.Image(label=\"Upload an image (png or jpg)\")],\n",
    "                    outputs=[gr.Textbox(label=\"Summary of the document\")],\n",
    "                    title=\"Legal Document Summarizer\",\n",
    "                    description=f\"\"\"Summarizes any testament document. Given an image, using OCR \n",
    "                    it extracts essential information related to wills. It provides a \n",
    "                    structured summary that includes details such as the testator’s \n",
    "                    identification, date of execution, capacity declaration, assets, debts, \n",
    "                    beneficiaries, heirs, asset distribution, executor appointment, \n",
    "                    guardianship (if applicable), witness names, and confirmation of the \n",
    "                    testator’s signature. If any information is missing, it will be marked \n",
    "                    as “unspecified.”\"\"\",\n",
    "                    allow_flagging=\"never\",\n",
    "                    examples=[\"images/testamento1.jpg\"])\n",
    "gr.close_all()\n",
    "demo = gr.TabbedInterface([interface1, interface2], [\"File\", \"Image\"])\n",
    "\n",
    "# Run the interface\n",
    "demo.launch(share=True)"
   ]
  }
 ],
 "metadata": {
  "language_info": {
   "name": "python"
  }
 },
 "nbformat": 4,
 "nbformat_minor": 2
}
